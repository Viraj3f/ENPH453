{
 "cells": [
  {
   "cell_type": "markdown",
   "metadata": {},
   "source": [
    "# ENPH453 Session 1\n",
    "### Alex White, Curtis Shewchuk, Viraj Bangari\n",
    "\n",
    "### Photon absorption of Silicon\n",
    "\n",
    "#### Calibration Steps\n",
    "\n",
    "We set up our apparatus like this block diagram:\n",
    "\n",
    "![](../data/monochromator_calibration_1.png)\n",
    "\n",
    "The goal is to maximize the throughput of the monochromator by adjusting the optics. We measured the intensity of the monochromator using the scope and the photodiode. We kept tweaking things until the lowest voltage reading was seen from the scope.\n",
    "\n",
    "We then turned of all the lights and the monochromator in the room, and observed the dark current in the scope. We then optically blocked the photodiode using the long pass filter and turned on monochromater. This allowed us to see how much  spectral noise came from the monochromator itself. We adjusted the optics reaching into the photodetector by adding an aperature to reduce the excess noise from the light source. With this, we kept adjusting our apparatus to reduce the noise.\n",
    "\n",
    "\n",
    "### Photovoltaic Effect Bandgap Measurement\n",
    "\n",
    "#### Apparatus\n",
    "\n",
    "#### Calibration Steps\n",
    "\n",
    "\n",
    "### Bandgap Measurement by Resistivity\n",
    "\n",
    "#### Apparatus\n",
    "Our apparatus came presetup. We have a computer running Windows XP which is connected to a Keithly 2010 temperature sensor. A thermocouple is connected to the Keithly, whose parallel connects are connected to a cold junction. The silicon sample itself is connected to a four point probe with a Keithly 2400-LV current source.\n",
    "\n",
    "The Keithly is also connected a reference"
   ]
  },
  {
   "cell_type": "code",
   "execution_count": null,
   "metadata": {},
   "outputs": [],
   "source": []
  }
 ],
 "metadata": {
  "kernelspec": {
   "display_name": "Python 3",
   "language": "python",
   "name": "python3"
  },
  "language_info": {
   "codemirror_mode": {
    "name": "ipython",
    "version": 3
   },
   "file_extension": ".py",
   "mimetype": "text/x-python",
   "name": "python",
   "nbconvert_exporter": "python",
   "pygments_lexer": "ipython3",
   "version": "3.6.5"
  }
 },
 "nbformat": 4,
 "nbformat_minor": 2
}
