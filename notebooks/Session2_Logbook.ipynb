{
 "cells": [
  {
   "cell_type": "markdown",
   "metadata": {},
   "source": [
    "# ENPH453 Session 1: January 22, 2019\n",
    "### Alex White, Curtis Shewchuk, Vira j Bangari\n",
    "\n",
    "## Photon absorption of Silicon\n",
    "\n",
    "### Calibration Steps\n",
    "\n",
    "##### Optical Setup\n",
    "We set up our apparatus like this block diagram:\n",
    "\n",
    "<img src=\"data/monochromator_calibration_1.png\" width=80% height=80%>\n",
    "\n",
    "The goal is to maximize the throughput of the monochromator by adjusting the optics. We measured the intensity of the monochromator using the scope and the photodiode. We kept tweaking things until the lowest voltage reading was seen from the scope. This meant that we were getting as high of a throughput as possible.\n",
    "\n",
    "We then turned of all the lights and the broadband in the room, and observed the dark current in the scope. We then optically blocked the photodiode using the long pass filter and turned on broadband. This allowed us to see how much spectral scattaring came from the broadband itself. We adjusted the optics reaching into the photodetector by adding an aperature to reduce the excess noise from the light source. With this, we kept adjusting our apparatus to reduce the stray scattering from the broadband.\n",
    "\n",
    "Photograph of finalized optical setup going in and out of the monochromator:\n",
    "\n",
    "<img src=\"data/optical_setup.jpg\">\n",
    "\n",
    "##### Monochromator Calibration\n",
    "Next, our goal was to calibrate the monochromator. We replaced the broadband light source with the Na light source. From our lab manual, we know that a spectral line exists at 589.2nm. We connected the photodiode do the Oscilloscope and kept adjusting our monochromator until a maximum DC voltage was read. This was determinined by setting the scoped volts per div to $5mV / div$. This occured at a reading of $285 \\pm 0.5 nm$. The spectral peak was observed between $282 \\pm 0.5nm$ and $282 \\pm 0.5nm$.\n",
    "\n",
    "\n",
    "##### Lock-in amplifier reading\n",
    "We added the optical chopper in front of the monochromator. We had it run at 200Hz, and connected the output of the photodiode and the reference frequency to the chopper. We used the \"auto-phase\" functionality of the lock-in amplifier to deal with delays between the photodiode and reference signal connections. \n",
    "\n",
    "To get the DC signal from the amplitude-modulated signal, we need the average value at a frequency of 0Hz. Therefore, a low-pass filter (built-into the amplifier) will need to be used to get the proper reading. We used a LPF time constant of $$\\tau = 1 second$$ with a $$-20 dB / decade$$. We need to wait a minimum of $$5 \\tau$$ before recording a measurement. This means that a higher time constant results in a cleaner signal, but longer time needed to read a measurement. A block diagram and photograph of this setup is presented below.\n",
    "\n",
    "<img src=\"./\">\n",
    "\n",
    "\n",
    "\n",
    "\n",
    "\n",
    "### Photovoltaic Effect Bandgap Measurement\n",
    "\n",
    "#### Apparatus\n",
    "\n",
    "#### Calibration Steps\n",
    "\n",
    "\n",
    "### Bandgap Measurement by Resistivity\n",
    "\n",
    "#### Apparatus\n",
    "Our apparatus came presetup. We have a computer running Windows XP which is connected to a Keithly 2010 temperature sensor. A thermocouple is connected to the Keithly, whose parallel connects are connected to a cold junction. The silicon sample itself is connected to a four point probe with a Keithly 2400-LV current source. We spent some time understanding out apparatus and how it works. We were able to turn on the oven and have the temperature updated on the thermocouple, albiet without the cold junction.\n",
    "\n",
    "<img src=\"data/app3diagram.png\" width=50% height=50%>"
   ]
  },
  {
   "cell_type": "markdown",
   "metadata": {},
   "source": [
    "\n"
   ]
  },
  {
   "cell_type": "code",
   "execution_count": null,
   "metadata": {},
   "outputs": [],
   "source": []
  }
 ],
 "metadata": {
  "kernelspec": {
   "display_name": "Python 3",
   "language": "python",
   "name": "python3"
  },
  "language_info": {
   "codemirror_mode": {
    "name": "ipython",
    "version": 3
   },
   "file_extension": ".py",
   "mimetype": "text/x-python",
   "name": "python",
   "nbconvert_exporter": "python",
   "pygments_lexer": "ipython3",
   "version": "3.6.5"
  }
 },
 "nbformat": 4,
 "nbformat_minor": 2
}
