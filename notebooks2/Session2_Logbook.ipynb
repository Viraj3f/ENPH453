{
 "cells": [
  {
   "cell_type": "markdown",
   "metadata": {},
   "source": [
    "# ENPH453 Session 1: March 5, 2019\n",
    "### Alex White, Curtis Shewchuk, Viraj Bangari\n",
    "\n",
    "## Electron Spin Resonance\n",
    "\n",
    "#### Apparatus\n",
    "We set up our apparatus like this block diagram:\n",
    "\n",
    "![](./data/apparatus.png)\n",
    "\n",
    "\n",
    "Lock in amplifier model: SR830 DSP\n",
    "\n",
    "Audio amplifier: BOGEN C20C\n",
    "\n",
    "Function Generator: Wavetek Model 19\n",
    "\n",
    "Oscilliscope: Tektronix TD3012B\n",
    "\n",
    "Helmholtz Coil: Custom built\n",
    "\n",
    "Wavemeter: FXR Inc Type X410A\n",
    "\n",
    "Preamp: Ithaco Model 565\n",
    "\n",
    "Biopolar Power Supply: Kepco\n",
    "\n",
    "\n",
    "##### Calibration Steps\n",
    "To calibrate the Klysotron, we set the modulating function to be a square wave. We connected the output of the EM-detector to an oscilliscope while bypassing the amplifier. We adjusted the reflector settting on the scope such that the top of the wave had no pitch. Our reflector dial setting was 5,29 and the beam is at 301 settings. An example of this present in the photograph below:\n",
    "\n",
    "<img src=\"./data/klystron_calibration.jpg\" width=\"400\">\n",
    "\n",
    "Then we connected output of the wavemeter into while bypassing the preamp. We observed a DC signal which is proportional to the power of the microwave radiation. We then tunes the the cavity resonator until a minimum signal was observed. This happened at a setting of: $9.945 \\pm 4 GHz$. The current control settings were at \n",
    "\n",
    "\n",
    "##### Observation of Lissajous\n",
    "We put the scope in XY mode and observed a Lissajous corresponding to the spectra \n",
    "\n",
    "<img src=\"./data/nice_lissajous.jpg\" width=\"400\">\n",
    "<img src=\"./data/nice_lissajous2.jpg\" width=\"400\">"
   ]
  },
  {
   "cell_type": "code",
   "execution_count": null,
   "metadata": {},
   "outputs": [],
   "source": []
  }
 ],
 "metadata": {
  "kernelspec": {
   "display_name": "Python 3",
   "language": "python",
   "name": "python3"
  },
  "language_info": {
   "codemirror_mode": {
    "name": "ipython",
    "version": 3
   },
   "file_extension": ".py",
   "mimetype": "text/x-python",
   "name": "python",
   "nbconvert_exporter": "python",
   "pygments_lexer": "ipython3",
   "version": "3.6.5"
  }
 },
 "nbformat": 4,
 "nbformat_minor": 2
}
